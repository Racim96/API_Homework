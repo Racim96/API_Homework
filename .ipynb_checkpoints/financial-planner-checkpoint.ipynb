{
 "cells": [
  {
   "cell_type": "markdown",
   "metadata": {},
   "source": [
    "# Unit 5 - Financial Planning\n"
   ]
  },
  {
   "cell_type": "code",
   "execution_count": 1,
   "metadata": {},
   "outputs": [
    {
     "name": "stdout",
     "output_type": "stream",
     "text": [
      "Requirement already satisfied: python-dotenv in c:\\users\\racim\\anaconda3\\lib\\site-packages (0.17.1)Note: you may need to restart the kernel to use updated packages.\n",
      "\n"
     ]
    }
   ],
   "source": [
    "pip install python-dotenv"
   ]
  },
  {
   "cell_type": "code",
   "execution_count": 2,
   "metadata": {},
   "outputs": [
    {
     "name": "stdout",
     "output_type": "stream",
     "text": [
      "Requirement already satisfied: alpaca_trade_api in c:\\users\\racim\\anaconda3\\lib\\site-packages (1.2.1)\n",
      "Requirement already satisfied: msgpack==1.0.2 in c:\\users\\racim\\anaconda3\\lib\\site-packages (from alpaca_trade_api) (1.0.2)\n",
      "Requirement already satisfied: websocket-client<1,>=0.56.0 in c:\\users\\racim\\anaconda3\\lib\\site-packages (from alpaca_trade_api) (0.59.0)\n",
      "Requirement already satisfied: pandas in c:\\users\\racim\\anaconda3\\lib\\site-packages (from alpaca_trade_api) (1.2.4)\n",
      "Requirement already satisfied: requests<3,>2 in c:\\users\\racim\\anaconda3\\lib\\site-packages (from alpaca_trade_api) (2.22.0)\n",
      "Requirement already satisfied: websockets<9,>=8.0 in c:\\users\\racim\\anaconda3\\lib\\site-packages (from alpaca_trade_api) (8.1)\n",
      "Requirement already satisfied: urllib3<2,>1.24 in c:\\users\\racim\\anaconda3\\lib\\site-packages (from alpaca_trade_api) (1.25.11)\n",
      "Requirement already satisfied: numpy in c:\\users\\racim\\anaconda3\\lib\\site-packages (from alpaca_trade_api) (1.20.1)\n",
      "Requirement already satisfied: certifi>=2017.4.17 in c:\\users\\racim\\anaconda3\\lib\\site-packages (from requests<3,>2->alpaca_trade_api) (2020.12.5)\n",
      "Requirement already satisfied: idna<2.9,>=2.5 in c:\\users\\racim\\anaconda3\\lib\\site-packages (from requests<3,>2->alpaca_trade_api) (2.8)\n",
      "Requirement already satisfied: chardet<3.1.0,>=3.0.2 in c:\\users\\racim\\anaconda3\\lib\\site-packages (from requests<3,>2->alpaca_trade_api) (3.0.4)\n",
      "Requirement already satisfied: six in c:\\users\\racim\\anaconda3\\lib\\site-packages (from websocket-client<1,>=0.56.0->alpaca_trade_api) (1.15.0)\n",
      "Requirement already satisfied: pytz>=2017.3 in c:\\users\\racim\\anaconda3\\lib\\site-packages (from pandas->alpaca_trade_api) (2021.1)\n",
      "Requirement already satisfied: python-dateutil>=2.7.3 in c:\\users\\racim\\anaconda3\\lib\\site-packages (from pandas->alpaca_trade_api) (2.8.1)\n",
      "Note: you may need to restart the kernel to use updated packages.\n"
     ]
    }
   ],
   "source": [
    "pip install alpaca_trade_api"
   ]
  },
  {
   "cell_type": "code",
   "execution_count": 3,
   "metadata": {},
   "outputs": [],
   "source": [
    "# Initial imports\n",
    "import os\n",
    "import requests\n",
    "import pandas as pd\n",
    "from dotenv import load_dotenv\n",
    "import alpaca_trade_api as tradeapi\n",
    "from MCForecastTools import MCSimulation\n",
    "import json\n",
    "%matplotlib inline"
   ]
  },
  {
   "cell_type": "code",
   "execution_count": 4,
   "metadata": {},
   "outputs": [
    {
     "data": {
      "text/plain": [
       "True"
      ]
     },
     "execution_count": 4,
     "metadata": {},
     "output_type": "execute_result"
    }
   ],
   "source": [
    "# Load .env enviroment variables\n",
    "load_dotenv()"
   ]
  },
  {
   "cell_type": "markdown",
   "metadata": {},
   "source": [
    "## Part 1 - Personal Finance Planner"
   ]
  },
  {
   "cell_type": "markdown",
   "metadata": {},
   "source": [
    "### Collect Crypto Prices Using the `requests` Library"
   ]
  },
  {
   "cell_type": "code",
   "execution_count": 5,
   "metadata": {},
   "outputs": [],
   "source": [
    "# Set current amount of crypto assets\n",
    "my_btc = 1.2\n",
    "my_eth = 5.3"
   ]
  },
  {
   "cell_type": "code",
   "execution_count": 6,
   "metadata": {},
   "outputs": [],
   "source": [
    "# Crypto API URLs\n",
    "btc_url = \"https://api.alternative.me/v2/ticker/Bitcoin/?convert=CAD\"\n",
    "eth_url = \"https://api.alternative.me/v2/ticker/Ethereum/?convert=CAD\""
   ]
  },
  {
   "cell_type": "code",
   "execution_count": 7,
   "metadata": {},
   "outputs": [],
   "source": [
    "#Add format specifier to request url\n",
    "btc_url = btc_url + \"?format=jason\"\n",
    "eth_url = eth_url + \"?format=jason\""
   ]
  },
  {
   "cell_type": "code",
   "execution_count": 8,
   "metadata": {},
   "outputs": [
    {
     "name": "stdout",
     "output_type": "stream",
     "text": [
      "Bitcoin Price is: $38354.0\n"
     ]
    }
   ],
   "source": [
    "# Fetch current BTC price\n",
    "request_btc= requests.get(btc_url)\n",
    "request_btc_content= request_btc.content\n",
    "btc_data= request_btc.json()\n",
    "btc_data\n",
    "btc_price= btc_data['data']['1']['quotes']['USD']['price']\n",
    "print(f\"Bitcoin Price is: ${btc_price}\")"
   ]
  },
  {
   "cell_type": "code",
   "execution_count": 9,
   "metadata": {},
   "outputs": [
    {
     "name": "stdout",
     "output_type": "stream",
     "text": [
      "Ehtereum price is; $2359.78\n"
     ]
    }
   ],
   "source": [
    "# Fetch current ETH price\n",
    "request_eth= requests.get(eth_url)\n",
    "request_eth_content= request_eth.content\n",
    "eth_data = request_eth.json()\n",
    "eth_data\n",
    "eth_price = eth_data['data']['1027']['quotes']['USD']['price']\n",
    "print(f\"Ehtereum price is; ${eth_price}\")"
   ]
  },
  {
   "cell_type": "code",
   "execution_count": 10,
   "metadata": {},
   "outputs": [
    {
     "name": "stdout",
     "output_type": "stream",
     "text": [
      "The current value of your 1.2 BTC is $46024.80\n",
      "The current value of your 5.3 ETH is $12506.83\n"
     ]
    }
   ],
   "source": [
    "# Compute current value of my crpto\n",
    "my_btc_value= btc_price*my_btc\n",
    "my_eth_value= eth_price*my_eth\n",
    "#rint current crypto wallet balance\n",
    "print(f\"The current value of your {my_btc} BTC is ${my_btc_value:0.2f}\")\n",
    "print(f\"The current value of your {my_eth} ETH is ${my_eth_value:0.2f}\")"
   ]
  },
  {
   "cell_type": "markdown",
   "metadata": {},
   "source": [
    "### Collect Investments Data Using Alpaca: `SPY` (stocks) and `AGG` (bonds)"
   ]
  },
  {
   "cell_type": "code",
   "execution_count": 11,
   "metadata": {},
   "outputs": [],
   "source": [
    "# Current amount of shares\n",
    "num_of_spy= 50\n",
    "num_of_agg= 200"
   ]
  },
  {
   "cell_type": "code",
   "execution_count": 12,
   "metadata": {},
   "outputs": [],
   "source": [
    "# Set Alpaca API key and secret\n",
    "alpaca_api_key = os.getenv(\"ALPACA_API_KEY\")\n",
    "alpaca_secret_key = os.getenv(\"ALPACA_SECRET_KEY\")"
   ]
  },
  {
   "cell_type": "code",
   "execution_count": 13,
   "metadata": {},
   "outputs": [
    {
     "name": "stdout",
     "output_type": "stream",
     "text": [
      "{'PK4E3FUBF86T7SEEG651'}\n"
     ]
    }
   ],
   "source": [
    "print({alpaca_api_key})"
   ]
  },
  {
   "cell_type": "code",
   "execution_count": 14,
   "metadata": {},
   "outputs": [],
   "source": [
    "# Create the Alpaca API object\n",
    "api = tradeapi.REST(\n",
    "    alpaca_api_key,\n",
    "    alpaca_secret_key,\n",
    "    api_version = \"v2\"\n",
    ")"
   ]
  },
  {
   "cell_type": "code",
   "execution_count": 15,
   "metadata": {},
   "outputs": [
    {
     "data": {
      "text/html": [
       "<div>\n",
       "<style scoped>\n",
       "    .dataframe tbody tr th:only-of-type {\n",
       "        vertical-align: middle;\n",
       "    }\n",
       "\n",
       "    .dataframe tbody tr th {\n",
       "        vertical-align: top;\n",
       "    }\n",
       "\n",
       "    .dataframe thead tr th {\n",
       "        text-align: left;\n",
       "    }\n",
       "\n",
       "    .dataframe thead tr:last-of-type th {\n",
       "        text-align: right;\n",
       "    }\n",
       "</style>\n",
       "<table border=\"1\" class=\"dataframe\">\n",
       "  <thead>\n",
       "    <tr>\n",
       "      <th></th>\n",
       "      <th colspan=\"5\" halign=\"left\">AGG</th>\n",
       "      <th colspan=\"5\" halign=\"left\">SPY</th>\n",
       "    </tr>\n",
       "    <tr>\n",
       "      <th></th>\n",
       "      <th>open</th>\n",
       "      <th>high</th>\n",
       "      <th>low</th>\n",
       "      <th>close</th>\n",
       "      <th>volume</th>\n",
       "      <th>open</th>\n",
       "      <th>high</th>\n",
       "      <th>low</th>\n",
       "      <th>close</th>\n",
       "      <th>volume</th>\n",
       "    </tr>\n",
       "    <tr>\n",
       "      <th>time</th>\n",
       "      <th></th>\n",
       "      <th></th>\n",
       "      <th></th>\n",
       "      <th></th>\n",
       "      <th></th>\n",
       "      <th></th>\n",
       "      <th></th>\n",
       "      <th></th>\n",
       "      <th></th>\n",
       "      <th></th>\n",
       "    </tr>\n",
       "  </thead>\n",
       "  <tbody>\n",
       "    <tr>\n",
       "      <th>2021-05-21 00:00:00-04:00</th>\n",
       "      <td>114.36</td>\n",
       "      <td>114.4</td>\n",
       "      <td>114.23</td>\n",
       "      <td>114.32</td>\n",
       "      <td>3350907</td>\n",
       "      <td>416.87</td>\n",
       "      <td>418.2</td>\n",
       "      <td>414.45</td>\n",
       "      <td>414.95</td>\n",
       "      <td>66392970</td>\n",
       "    </tr>\n",
       "  </tbody>\n",
       "</table>\n",
       "</div>"
      ],
      "text/plain": [
       "                              AGG                                     SPY  \\\n",
       "                             open   high     low   close   volume    open   \n",
       "time                                                                        \n",
       "2021-05-21 00:00:00-04:00  114.36  114.4  114.23  114.32  3350907  416.87   \n",
       "\n",
       "                                                            \n",
       "                            high     low   close    volume  \n",
       "time                                                        \n",
       "2021-05-21 00:00:00-04:00  418.2  414.45  414.95  66392970  "
      ]
     },
     "execution_count": 15,
     "metadata": {},
     "output_type": "execute_result"
    }
   ],
   "source": [
    "# Format current date as ISO format\n",
    "current_date = pd.Timestamp(\"2021-05-21\", tz=\"America/New_York\").isoformat()\n",
    "# Set the tickers\n",
    "tickers = [\"AGG\", \"SPY\"]\n",
    "\n",
    "# Set timeframe to '1D' for Alpaca API\n",
    "timeframe = \"1D\"\n",
    "\n",
    "# Get current closing prices for SPY and AGG\n",
    "df_ticker = api.get_barset(\n",
    "    tickers,\n",
    "    timeframe,\n",
    "    start=current_date,\n",
    "    end=current_date,\n",
    ").df\n",
    "\n",
    "# Preview DataFrame\n",
    "df_ticker.head(1)"
   ]
  },
  {
   "cell_type": "code",
   "execution_count": 16,
   "metadata": {},
   "outputs": [
    {
     "name": "stdout",
     "output_type": "stream",
     "text": [
      "Current AGG closing price: $114.32\n",
      "Current SPY closing price: $414.95\n"
     ]
    }
   ],
   "source": [
    "# Print AGG and SPY close prices\n",
    "agg_close_price = df_ticker[\"AGG\"][\"close\"].item()\n",
    "spy_close_price = df_ticker[\"SPY\"][\"close\"].item()\n",
    "print(f\"Current AGG closing price: ${agg_close_price}\")\n",
    "print(f\"Current SPY closing price: ${spy_close_price}\")"
   ]
  },
  {
   "cell_type": "code",
   "execution_count": 17,
   "metadata": {},
   "outputs": [
    {
     "name": "stdout",
     "output_type": "stream",
     "text": [
      "The current value of your 114.32 SPY shares is $20747.50\n",
      "The current value of your 414.95 AGG shares is $22864.00\n"
     ]
    }
   ],
   "source": [
    "# Compute the current value of shares\n",
    "my_agg_value= agg_close_price*num_of_agg\n",
    "my_spy_value= spy_close_price*num_of_spy\n",
    "# Print current value of share\n",
    "print(f\"The current value of your {agg_close_price} SPY shares is ${my_spy_value:0.2f}\")\n",
    "print(f\"The current value of your {spy_close_price} AGG shares is ${my_agg_value:0.2f}\")"
   ]
  },
  {
   "cell_type": "markdown",
   "metadata": {},
   "source": [
    "### Savings Health Analysis"
   ]
  },
  {
   "cell_type": "code",
   "execution_count": 18,
   "metadata": {},
   "outputs": [
    {
     "data": {
      "text/html": [
       "<div>\n",
       "<style scoped>\n",
       "    .dataframe tbody tr th:only-of-type {\n",
       "        vertical-align: middle;\n",
       "    }\n",
       "\n",
       "    .dataframe tbody tr th {\n",
       "        vertical-align: top;\n",
       "    }\n",
       "\n",
       "    .dataframe thead th {\n",
       "        text-align: right;\n",
       "    }\n",
       "</style>\n",
       "<table border=\"1\" class=\"dataframe\">\n",
       "  <thead>\n",
       "    <tr style=\"text-align: right;\">\n",
       "      <th></th>\n",
       "      <th>savings</th>\n",
       "    </tr>\n",
       "  </thead>\n",
       "  <tbody>\n",
       "    <tr>\n",
       "      <th>Crypto</th>\n",
       "      <td>58531.634</td>\n",
       "    </tr>\n",
       "    <tr>\n",
       "      <th>Shares</th>\n",
       "      <td>43611.500</td>\n",
       "    </tr>\n",
       "  </tbody>\n",
       "</table>\n",
       "</div>"
      ],
      "text/plain": [
       "          savings\n",
       "Crypto  58531.634\n",
       "Shares  43611.500"
      ]
     },
     "metadata": {},
     "output_type": "display_data"
    }
   ],
   "source": [
    "# Set monthly household income\n",
    "House_hold_income = 12000\n",
    "# Create savings DataFrame\n",
    "df_savings = {'savings':[my_btc_value+my_eth_value, my_spy_value+my_agg_value]}\n",
    "df_savings = pd.DataFrame(df_savings,index= ['Crypto','Shares'])\n",
    "# Display savings DataFrame\n",
    "display(df_savings)"
   ]
  },
  {
   "cell_type": "code",
   "execution_count": 19,
   "metadata": {},
   "outputs": [
    {
     "data": {
      "text/plain": [
       "<AxesSubplot:ylabel='savings'>"
      ]
     },
     "execution_count": 19,
     "metadata": {},
     "output_type": "execute_result"
    },
    {
     "data": {
      "image/png": "[encoded data removed]",
      "text/plain": [
       "<Figure size 432x288 with 1 Axes>"
      ]
     },
     "metadata": {},
     "output_type": "display_data"
    }
   ],
   "source": [
    "# Plot savings pie chart\n",
    "df_savings.plot(kind='pie', y= 'savings')"
   ]
  },
  {
   "cell_type": "code",
   "execution_count": 20,
   "metadata": {},
   "outputs": [
    {
     "name": "stdout",
     "output_type": "stream",
     "text": [
      "Congratulation, you have gained more than 3x gains off of your investment\n"
     ]
    }
   ],
   "source": [
    "# Set ideal emergency fund\n",
    "emergency_fund = House_hold_income * 3\n",
    "# Calculate total amount of savings\n",
    "total_amnt_savings= df_savings.sum().item()\n",
    "# Validate saving health\n",
    "if total_amnt_savings > emergency_fund: \n",
    "    print(f\"Congratulation, you have gained more than 3x gains off of your investment\")\n",
    "elif total_amnt_savings == emergency_fund:\n",
    "    print(f\"Congratulation, you have equalled the target goal of 3x gains od of you investment\")\n",
    "else:\n",
    "    print(f\"You are ${emergency_fund-total_amnt_savings} short from 3x gains off of your investment\")\n"
   ]
  },
  {
   "cell_type": "markdown",
   "metadata": {},
   "source": [
    "## Part 2 - Retirement Planning\n",
    "\n",
    "### Monte Carlo Simulation"
   ]
  },
  {
   "cell_type": "code",
   "execution_count": 21,
   "metadata": {},
   "outputs": [],
   "source": [
    "# Set start and end dates of five years back from today.\n",
    "# Sample results may vary from the solution based on the time frame chosen\n",
    "start_date = pd.Timestamp('2016-05-22', tz='America/New_York').isoformat()\n",
    "end_date = pd.Timestamp('2021-05-22', tz='America/New_York').isoformat()"
   ]
  },
  {
   "cell_type": "code",
   "execution_count": 37,
   "metadata": {},
   "outputs": [
    {
     "data": {
      "text/html": [
       "<div>\n",
       "<style scoped>\n",
       "    .dataframe tbody tr th:only-of-type {\n",
       "        vertical-align: middle;\n",
       "    }\n",
       "\n",
       "    .dataframe tbody tr th {\n",
       "        vertical-align: top;\n",
       "    }\n",
       "\n",
       "    .dataframe thead tr th {\n",
       "        text-align: left;\n",
       "    }\n",
       "\n",
       "    .dataframe thead tr:last-of-type th {\n",
       "        text-align: right;\n",
       "    }\n",
       "</style>\n",
       "<table border=\"1\" class=\"dataframe\">\n",
       "  <thead>\n",
       "    <tr>\n",
       "      <th></th>\n",
       "      <th colspan=\"5\" halign=\"left\">AGG</th>\n",
       "      <th colspan=\"5\" halign=\"left\">SPY</th>\n",
       "    </tr>\n",
       "    <tr>\n",
       "      <th></th>\n",
       "      <th>open</th>\n",
       "      <th>high</th>\n",
       "      <th>low</th>\n",
       "      <th>close</th>\n",
       "      <th>volume</th>\n",
       "      <th>open</th>\n",
       "      <th>high</th>\n",
       "      <th>low</th>\n",
       "      <th>close</th>\n",
       "      <th>volume</th>\n",
       "    </tr>\n",
       "    <tr>\n",
       "      <th>time</th>\n",
       "      <th></th>\n",
       "      <th></th>\n",
       "      <th></th>\n",
       "      <th></th>\n",
       "      <th></th>\n",
       "      <th></th>\n",
       "      <th></th>\n",
       "      <th></th>\n",
       "      <th></th>\n",
       "      <th></th>\n",
       "    </tr>\n",
       "  </thead>\n",
       "  <tbody>\n",
       "    <tr>\n",
       "      <th>2020-12-29 00:00:00-05:00</th>\n",
       "      <td>118.06</td>\n",
       "      <td>118.06</td>\n",
       "      <td>117.9200</td>\n",
       "      <td>118.05</td>\n",
       "      <td>3255442</td>\n",
       "      <td>373.81</td>\n",
       "      <td>374.00</td>\n",
       "      <td>370.830</td>\n",
       "      <td>371.48</td>\n",
       "      <td>45214280</td>\n",
       "    </tr>\n",
       "    <tr>\n",
       "      <th>2020-12-30 00:00:00-05:00</th>\n",
       "      <td>118.09</td>\n",
       "      <td>118.12</td>\n",
       "      <td>117.9815</td>\n",
       "      <td>118.10</td>\n",
       "      <td>2593714</td>\n",
       "      <td>372.34</td>\n",
       "      <td>373.10</td>\n",
       "      <td>371.570</td>\n",
       "      <td>371.93</td>\n",
       "      <td>40295732</td>\n",
       "    </tr>\n",
       "    <tr>\n",
       "      <th>2020-12-31 00:00:00-05:00</th>\n",
       "      <td>118.18</td>\n",
       "      <td>118.24</td>\n",
       "      <td>118.1200</td>\n",
       "      <td>118.20</td>\n",
       "      <td>4325026</td>\n",
       "      <td>371.78</td>\n",
       "      <td>374.66</td>\n",
       "      <td>371.232</td>\n",
       "      <td>373.85</td>\n",
       "      <td>52720911</td>\n",
       "    </tr>\n",
       "  </tbody>\n",
       "</table>\n",
       "</div>"
      ],
      "text/plain": [
       "                              AGG                                        SPY  \\\n",
       "                             open    high       low   close   volume    open   \n",
       "time                                                                           \n",
       "2020-12-29 00:00:00-05:00  118.06  118.06  117.9200  118.05  3255442  373.81   \n",
       "2020-12-30 00:00:00-05:00  118.09  118.12  117.9815  118.10  2593714  372.34   \n",
       "2020-12-31 00:00:00-05:00  118.18  118.24  118.1200  118.20  4325026  371.78   \n",
       "\n",
       "                                                              \n",
       "                             high      low   close    volume  \n",
       "time                                                          \n",
       "2020-12-29 00:00:00-05:00  374.00  370.830  371.48  45214280  \n",
       "2020-12-30 00:00:00-05:00  373.10  371.570  371.93  40295732  \n",
       "2020-12-31 00:00:00-05:00  374.66  371.232  373.85  52720911  "
      ]
     },
     "execution_count": 37,
     "metadata": {},
     "output_type": "execute_result"
    }
   ],
   "source": [
    "# Get 5 years' worth of historical data for SPY and AGG\n",
    "df_ticker_new = api.get_barset(\n",
    "    tickers,\n",
    "    timeframe,\n",
    "    start = start_date,\n",
    "    end = end_date\n",
    ").df\n",
    "# Display sample data\n",
    "df_ticker_new.head(3)"
   ]
  },
  {
   "cell_type": "code",
   "execution_count": 38,
   "metadata": {},
   "outputs": [],
   "source": [
    "# Configuring a Monte Carlo simulation to forecast 30 years cumulative returns\n",
    "MC_thirty_year = MCSimulation(\n",
    "    portfolio_data = df_ticker_new,\n",
    "    weights = [.60,.40],\n",
    "    num_simulation = 500,\n",
    "    num_trading_days = 252*30\n",
    ")"
   ]
  },
  {
   "cell_type": "code",
   "execution_count": 39,
   "metadata": {},
   "outputs": [
    {
     "data": {
      "text/html": [
       "<div>\n",
       "<style scoped>\n",
       "    .dataframe tbody tr th:only-of-type {\n",
       "        vertical-align: middle;\n",
       "    }\n",
       "\n",
       "    .dataframe tbody tr th {\n",
       "        vertical-align: top;\n",
       "    }\n",
       "\n",
       "    .dataframe thead tr th {\n",
       "        text-align: left;\n",
       "    }\n",
       "\n",
       "    .dataframe thead tr:last-of-type th {\n",
       "        text-align: right;\n",
       "    }\n",
       "</style>\n",
       "<table border=\"1\" class=\"dataframe\">\n",
       "  <thead>\n",
       "    <tr>\n",
       "      <th></th>\n",
       "      <th colspan=\"6\" halign=\"left\">AGG</th>\n",
       "      <th colspan=\"6\" halign=\"left\">SPY</th>\n",
       "    </tr>\n",
       "    <tr>\n",
       "      <th></th>\n",
       "      <th>open</th>\n",
       "      <th>high</th>\n",
       "      <th>low</th>\n",
       "      <th>close</th>\n",
       "      <th>volume</th>\n",
       "      <th>daily_return</th>\n",
       "      <th>open</th>\n",
       "      <th>high</th>\n",
       "      <th>low</th>\n",
       "      <th>close</th>\n",
       "      <th>volume</th>\n",
       "      <th>daily_return</th>\n",
       "    </tr>\n",
       "    <tr>\n",
       "      <th>time</th>\n",
       "      <th></th>\n",
       "      <th></th>\n",
       "      <th></th>\n",
       "      <th></th>\n",
       "      <th></th>\n",
       "      <th></th>\n",
       "      <th></th>\n",
       "      <th></th>\n",
       "      <th></th>\n",
       "      <th></th>\n",
       "      <th></th>\n",
       "      <th></th>\n",
       "    </tr>\n",
       "  </thead>\n",
       "  <tbody>\n",
       "    <tr>\n",
       "      <th>2020-12-29 00:00:00-05:00</th>\n",
       "      <td>118.06</td>\n",
       "      <td>118.06</td>\n",
       "      <td>117.9200</td>\n",
       "      <td>118.050</td>\n",
       "      <td>3255442</td>\n",
       "      <td>NaN</td>\n",
       "      <td>373.81</td>\n",
       "      <td>374.00</td>\n",
       "      <td>370.830</td>\n",
       "      <td>371.48</td>\n",
       "      <td>45214280</td>\n",
       "      <td>NaN</td>\n",
       "    </tr>\n",
       "    <tr>\n",
       "      <th>2020-12-30 00:00:00-05:00</th>\n",
       "      <td>118.09</td>\n",
       "      <td>118.12</td>\n",
       "      <td>117.9815</td>\n",
       "      <td>118.100</td>\n",
       "      <td>2593714</td>\n",
       "      <td>0.000424</td>\n",
       "      <td>372.34</td>\n",
       "      <td>373.10</td>\n",
       "      <td>371.570</td>\n",
       "      <td>371.93</td>\n",
       "      <td>40295732</td>\n",
       "      <td>0.001211</td>\n",
       "    </tr>\n",
       "    <tr>\n",
       "      <th>2020-12-31 00:00:00-05:00</th>\n",
       "      <td>118.18</td>\n",
       "      <td>118.24</td>\n",
       "      <td>118.1200</td>\n",
       "      <td>118.200</td>\n",
       "      <td>4325026</td>\n",
       "      <td>0.000847</td>\n",
       "      <td>371.78</td>\n",
       "      <td>374.66</td>\n",
       "      <td>371.232</td>\n",
       "      <td>373.85</td>\n",
       "      <td>52720911</td>\n",
       "      <td>0.005162</td>\n",
       "    </tr>\n",
       "    <tr>\n",
       "      <th>2021-01-04 00:00:00-05:00</th>\n",
       "      <td>118.08</td>\n",
       "      <td>118.14</td>\n",
       "      <td>117.9850</td>\n",
       "      <td>118.040</td>\n",
       "      <td>6211938</td>\n",
       "      <td>-0.001354</td>\n",
       "      <td>375.31</td>\n",
       "      <td>375.45</td>\n",
       "      <td>364.820</td>\n",
       "      <td>368.85</td>\n",
       "      <td>92938087</td>\n",
       "      <td>-0.013374</td>\n",
       "    </tr>\n",
       "    <tr>\n",
       "      <th>2021-01-05 00:00:00-05:00</th>\n",
       "      <td>118.06</td>\n",
       "      <td>118.06</td>\n",
       "      <td>117.7500</td>\n",
       "      <td>117.915</td>\n",
       "      <td>5915389</td>\n",
       "      <td>-0.001059</td>\n",
       "      <td>368.10</td>\n",
       "      <td>372.50</td>\n",
       "      <td>368.050</td>\n",
       "      <td>371.32</td>\n",
       "      <td>53668865</td>\n",
       "      <td>0.006696</td>\n",
       "    </tr>\n",
       "  </tbody>\n",
       "</table>\n",
       "</div>"
      ],
      "text/plain": [
       "                              AGG                                      \\\n",
       "                             open    high       low    close   volume   \n",
       "time                                                                    \n",
       "2020-12-29 00:00:00-05:00  118.06  118.06  117.9200  118.050  3255442   \n",
       "2020-12-30 00:00:00-05:00  118.09  118.12  117.9815  118.100  2593714   \n",
       "2020-12-31 00:00:00-05:00  118.18  118.24  118.1200  118.200  4325026   \n",
       "2021-01-04 00:00:00-05:00  118.08  118.14  117.9850  118.040  6211938   \n",
       "2021-01-05 00:00:00-05:00  118.06  118.06  117.7500  117.915  5915389   \n",
       "\n",
       "                                           SPY                           \\\n",
       "                          daily_return    open    high      low   close   \n",
       "time                                                                      \n",
       "2020-12-29 00:00:00-05:00          NaN  373.81  374.00  370.830  371.48   \n",
       "2020-12-30 00:00:00-05:00     0.000424  372.34  373.10  371.570  371.93   \n",
       "2020-12-31 00:00:00-05:00     0.000847  371.78  374.66  371.232  373.85   \n",
       "2021-01-04 00:00:00-05:00    -0.001354  375.31  375.45  364.820  368.85   \n",
       "2021-01-05 00:00:00-05:00    -0.001059  368.10  372.50  368.050  371.32   \n",
       "\n",
       "                                                  \n",
       "                             volume daily_return  \n",
       "time                                              \n",
       "2020-12-29 00:00:00-05:00  45214280          NaN  \n",
       "2020-12-30 00:00:00-05:00  40295732     0.001211  \n",
       "2020-12-31 00:00:00-05:00  52720911     0.005162  \n",
       "2021-01-04 00:00:00-05:00  92938087    -0.013374  \n",
       "2021-01-05 00:00:00-05:00  53668865     0.006696  "
      ]
     },
     "execution_count": 39,
     "metadata": {},
     "output_type": "execute_result"
    }
   ],
   "source": [
    "# Printing the simulation input data\n",
    "MC_thirty_year.portfolio_data.head(5)"
   ]
  },
  {
   "cell_type": "code",
   "execution_count": 40,
   "metadata": {},
   "outputs": [
    {
     "name": "stdout",
     "output_type": "stream",
     "text": [
      "Running Monte Carlo simulation number 0.\n",
      "Running Monte Carlo simulation number 10.\n",
      "Running Monte Carlo simulation number 20.\n",
      "Running Monte Carlo simulation number 30.\n",
      "Running Monte Carlo simulation number 40.\n",
      "Running Monte Carlo simulation number 50.\n",
      "Running Monte Carlo simulation number 60.\n",
      "Running Monte Carlo simulation number 70.\n",
      "Running Monte Carlo simulation number 80.\n",
      "Running Monte Carlo simulation number 90.\n",
      "Running Monte Carlo simulation number 100.\n",
      "Running Monte Carlo simulation number 110.\n",
      "Running Monte Carlo simulation number 120.\n",
      "Running Monte Carlo simulation number 130.\n",
      "Running Monte Carlo simulation number 140.\n",
      "Running Monte Carlo simulation number 150.\n",
      "Running Monte Carlo simulation number 160.\n",
      "Running Monte Carlo simulation number 170.\n",
      "Running Monte Carlo simulation number 180.\n",
      "Running Monte Carlo simulation number 190.\n",
      "Running Monte Carlo simulation number 200.\n",
      "Running Monte Carlo simulation number 210.\n",
      "Running Monte Carlo simulation number 220.\n",
      "Running Monte Carlo simulation number 230.\n",
      "Running Monte Carlo simulation number 240.\n",
      "Running Monte Carlo simulation number 250.\n",
      "Running Monte Carlo simulation number 260.\n",
      "Running Monte Carlo simulation number 270.\n",
      "Running Monte Carlo simulation number 280.\n",
      "Running Monte Carlo simulation number 290.\n",
      "Running Monte Carlo simulation number 300.\n",
      "Running Monte Carlo simulation number 310.\n",
      "Running Monte Carlo simulation number 320.\n",
      "Running Monte Carlo simulation number 330.\n",
      "Running Monte Carlo simulation number 340.\n",
      "Running Monte Carlo simulation number 350.\n",
      "Running Monte Carlo simulation number 360.\n",
      "Running Monte Carlo simulation number 370.\n",
      "Running Monte Carlo simulation number 380.\n",
      "Running Monte Carlo simulation number 390.\n",
      "Running Monte Carlo simulation number 400.\n",
      "Running Monte Carlo simulation number 410.\n",
      "Running Monte Carlo simulation number 420.\n",
      "Running Monte Carlo simulation number 430.\n",
      "Running Monte Carlo simulation number 440.\n",
      "Running Monte Carlo simulation number 450.\n",
      "Running Monte Carlo simulation number 460.\n",
      "Running Monte Carlo simulation number 470.\n",
      "Running Monte Carlo simulation number 480.\n",
      "Running Monte Carlo simulation number 490.\n"
     ]
    },
    {
     "data": {
      "text/html": [
       "<div>\n",
       "<style scoped>\n",
       "    .dataframe tbody tr th:only-of-type {\n",
       "        vertical-align: middle;\n",
       "    }\n",
       "\n",
       "    .dataframe tbody tr th {\n",
       "        vertical-align: top;\n",
       "    }\n",
       "\n",
       "    .dataframe thead th {\n",
       "        text-align: right;\n",
       "    }\n",
       "</style>\n",
       "<table border=\"1\" class=\"dataframe\">\n",
       "  <thead>\n",
       "    <tr style=\"text-align: right;\">\n",
       "      <th></th>\n",
       "      <th>0</th>\n",
       "      <th>1</th>\n",
       "      <th>2</th>\n",
       "      <th>3</th>\n",
       "      <th>4</th>\n",
       "      <th>5</th>\n",
       "      <th>6</th>\n",
       "      <th>7</th>\n",
       "      <th>8</th>\n",
       "      <th>9</th>\n",
       "      <th>...</th>\n",
       "      <th>490</th>\n",
       "      <th>491</th>\n",
       "      <th>492</th>\n",
       "      <th>493</th>\n",
       "      <th>494</th>\n",
       "      <th>495</th>\n",
       "      <th>496</th>\n",
       "      <th>497</th>\n",
       "      <th>498</th>\n",
       "      <th>499</th>\n",
       "    </tr>\n",
       "  </thead>\n",
       "  <tbody>\n",
       "    <tr>\n",
       "      <th>0</th>\n",
       "      <td>1.000000</td>\n",
       "      <td>1.000000</td>\n",
       "      <td>1.000000</td>\n",
       "      <td>1.000000</td>\n",
       "      <td>1.000000</td>\n",
       "      <td>1.000000</td>\n",
       "      <td>1.000000</td>\n",
       "      <td>1.000000</td>\n",
       "      <td>1.000000</td>\n",
       "      <td>1.000000</td>\n",
       "      <td>...</td>\n",
       "      <td>1.000000</td>\n",
       "      <td>1.000000</td>\n",
       "      <td>1.000000</td>\n",
       "      <td>1.000000</td>\n",
       "      <td>1.000000</td>\n",
       "      <td>1.000000</td>\n",
       "      <td>1.000000</td>\n",
       "      <td>1.000000</td>\n",
       "      <td>1.000000</td>\n",
       "      <td>1.000000</td>\n",
       "    </tr>\n",
       "    <tr>\n",
       "      <th>1</th>\n",
       "      <td>0.993039</td>\n",
       "      <td>0.999869</td>\n",
       "      <td>1.000874</td>\n",
       "      <td>1.002926</td>\n",
       "      <td>1.003368</td>\n",
       "      <td>0.995692</td>\n",
       "      <td>0.999151</td>\n",
       "      <td>0.987227</td>\n",
       "      <td>0.995616</td>\n",
       "      <td>1.001344</td>\n",
       "      <td>...</td>\n",
       "      <td>1.002195</td>\n",
       "      <td>0.994999</td>\n",
       "      <td>0.995567</td>\n",
       "      <td>1.005903</td>\n",
       "      <td>0.996142</td>\n",
       "      <td>0.994448</td>\n",
       "      <td>1.004147</td>\n",
       "      <td>0.998578</td>\n",
       "      <td>1.007693</td>\n",
       "      <td>0.993898</td>\n",
       "    </tr>\n",
       "    <tr>\n",
       "      <th>2</th>\n",
       "      <td>0.988921</td>\n",
       "      <td>1.005474</td>\n",
       "      <td>1.003208</td>\n",
       "      <td>0.999110</td>\n",
       "      <td>1.007576</td>\n",
       "      <td>0.999718</td>\n",
       "      <td>0.997222</td>\n",
       "      <td>0.987146</td>\n",
       "      <td>0.994950</td>\n",
       "      <td>1.005102</td>\n",
       "      <td>...</td>\n",
       "      <td>1.000471</td>\n",
       "      <td>1.001002</td>\n",
       "      <td>0.999727</td>\n",
       "      <td>1.003765</td>\n",
       "      <td>0.997768</td>\n",
       "      <td>0.994862</td>\n",
       "      <td>0.997530</td>\n",
       "      <td>0.998710</td>\n",
       "      <td>1.006067</td>\n",
       "      <td>0.993430</td>\n",
       "    </tr>\n",
       "    <tr>\n",
       "      <th>3</th>\n",
       "      <td>0.992305</td>\n",
       "      <td>1.011627</td>\n",
       "      <td>1.005970</td>\n",
       "      <td>0.995090</td>\n",
       "      <td>1.006497</td>\n",
       "      <td>0.995926</td>\n",
       "      <td>0.999026</td>\n",
       "      <td>0.980540</td>\n",
       "      <td>1.000562</td>\n",
       "      <td>1.000128</td>\n",
       "      <td>...</td>\n",
       "      <td>1.002591</td>\n",
       "      <td>1.004869</td>\n",
       "      <td>0.994755</td>\n",
       "      <td>1.001206</td>\n",
       "      <td>0.996291</td>\n",
       "      <td>0.993097</td>\n",
       "      <td>0.992011</td>\n",
       "      <td>0.993572</td>\n",
       "      <td>1.012168</td>\n",
       "      <td>0.995420</td>\n",
       "    </tr>\n",
       "    <tr>\n",
       "      <th>4</th>\n",
       "      <td>0.997290</td>\n",
       "      <td>1.011865</td>\n",
       "      <td>1.000701</td>\n",
       "      <td>0.999472</td>\n",
       "      <td>1.007469</td>\n",
       "      <td>0.991351</td>\n",
       "      <td>0.999985</td>\n",
       "      <td>0.981036</td>\n",
       "      <td>1.000718</td>\n",
       "      <td>0.999301</td>\n",
       "      <td>...</td>\n",
       "      <td>1.001422</td>\n",
       "      <td>1.008467</td>\n",
       "      <td>0.990791</td>\n",
       "      <td>1.000711</td>\n",
       "      <td>0.994760</td>\n",
       "      <td>0.993263</td>\n",
       "      <td>0.987903</td>\n",
       "      <td>0.994622</td>\n",
       "      <td>1.014747</td>\n",
       "      <td>0.999906</td>\n",
       "    </tr>\n",
       "    <tr>\n",
       "      <th>...</th>\n",
       "      <td>...</td>\n",
       "      <td>...</td>\n",
       "      <td>...</td>\n",
       "      <td>...</td>\n",
       "      <td>...</td>\n",
       "      <td>...</td>\n",
       "      <td>...</td>\n",
       "      <td>...</td>\n",
       "      <td>...</td>\n",
       "      <td>...</td>\n",
       "      <td>...</td>\n",
       "      <td>...</td>\n",
       "      <td>...</td>\n",
       "      <td>...</td>\n",
       "      <td>...</td>\n",
       "      <td>...</td>\n",
       "      <td>...</td>\n",
       "      <td>...</td>\n",
       "      <td>...</td>\n",
       "      <td>...</td>\n",
       "      <td>...</td>\n",
       "    </tr>\n",
       "    <tr>\n",
       "      <th>7556</th>\n",
       "      <td>17.192135</td>\n",
       "      <td>7.352048</td>\n",
       "      <td>7.338850</td>\n",
       "      <td>5.197571</td>\n",
       "      <td>9.099391</td>\n",
       "      <td>10.525991</td>\n",
       "      <td>5.726382</td>\n",
       "      <td>5.799887</td>\n",
       "      <td>5.253896</td>\n",
       "      <td>9.673441</td>\n",
       "      <td>...</td>\n",
       "      <td>9.004942</td>\n",
       "      <td>14.113171</td>\n",
       "      <td>12.311908</td>\n",
       "      <td>5.728484</td>\n",
       "      <td>10.758712</td>\n",
       "      <td>11.980488</td>\n",
       "      <td>8.256933</td>\n",
       "      <td>6.184642</td>\n",
       "      <td>7.153767</td>\n",
       "      <td>6.486083</td>\n",
       "    </tr>\n",
       "    <tr>\n",
       "      <th>7557</th>\n",
       "      <td>17.228101</td>\n",
       "      <td>7.330064</td>\n",
       "      <td>7.319573</td>\n",
       "      <td>5.226789</td>\n",
       "      <td>9.055417</td>\n",
       "      <td>10.507291</td>\n",
       "      <td>5.731131</td>\n",
       "      <td>5.827241</td>\n",
       "      <td>5.253544</td>\n",
       "      <td>9.711732</td>\n",
       "      <td>...</td>\n",
       "      <td>8.991675</td>\n",
       "      <td>14.155364</td>\n",
       "      <td>12.273885</td>\n",
       "      <td>5.707948</td>\n",
       "      <td>10.733972</td>\n",
       "      <td>11.957740</td>\n",
       "      <td>8.308359</td>\n",
       "      <td>6.191651</td>\n",
       "      <td>7.158714</td>\n",
       "      <td>6.482951</td>\n",
       "    </tr>\n",
       "    <tr>\n",
       "      <th>7558</th>\n",
       "      <td>17.166822</td>\n",
       "      <td>7.268183</td>\n",
       "      <td>7.326357</td>\n",
       "      <td>5.210799</td>\n",
       "      <td>9.074809</td>\n",
       "      <td>10.459246</td>\n",
       "      <td>5.740425</td>\n",
       "      <td>5.829340</td>\n",
       "      <td>5.243030</td>\n",
       "      <td>9.749898</td>\n",
       "      <td>...</td>\n",
       "      <td>9.015839</td>\n",
       "      <td>14.161686</td>\n",
       "      <td>12.231720</td>\n",
       "      <td>5.699142</td>\n",
       "      <td>10.742679</td>\n",
       "      <td>11.965914</td>\n",
       "      <td>8.356712</td>\n",
       "      <td>6.146367</td>\n",
       "      <td>7.145184</td>\n",
       "      <td>6.485386</td>\n",
       "    </tr>\n",
       "    <tr>\n",
       "      <th>7559</th>\n",
       "      <td>17.185310</td>\n",
       "      <td>7.277115</td>\n",
       "      <td>7.352876</td>\n",
       "      <td>5.227333</td>\n",
       "      <td>9.090210</td>\n",
       "      <td>10.416171</td>\n",
       "      <td>5.706037</td>\n",
       "      <td>5.811633</td>\n",
       "      <td>5.224868</td>\n",
       "      <td>9.778770</td>\n",
       "      <td>...</td>\n",
       "      <td>9.085832</td>\n",
       "      <td>14.248293</td>\n",
       "      <td>12.235988</td>\n",
       "      <td>5.677445</td>\n",
       "      <td>10.701343</td>\n",
       "      <td>11.912666</td>\n",
       "      <td>8.315815</td>\n",
       "      <td>6.159801</td>\n",
       "      <td>7.132640</td>\n",
       "      <td>6.491426</td>\n",
       "    </tr>\n",
       "    <tr>\n",
       "      <th>7560</th>\n",
       "      <td>17.152179</td>\n",
       "      <td>7.313586</td>\n",
       "      <td>7.353289</td>\n",
       "      <td>5.241500</td>\n",
       "      <td>9.070201</td>\n",
       "      <td>10.451168</td>\n",
       "      <td>5.740179</td>\n",
       "      <td>5.829821</td>\n",
       "      <td>5.214751</td>\n",
       "      <td>9.765425</td>\n",
       "      <td>...</td>\n",
       "      <td>9.068588</td>\n",
       "      <td>14.228114</td>\n",
       "      <td>12.244041</td>\n",
       "      <td>5.707216</td>\n",
       "      <td>10.705937</td>\n",
       "      <td>11.938034</td>\n",
       "      <td>8.277656</td>\n",
       "      <td>6.153653</td>\n",
       "      <td>7.113738</td>\n",
       "      <td>6.510472</td>\n",
       "    </tr>\n",
       "  </tbody>\n",
       "</table>\n",
       "<p>7561 rows × 500 columns</p>\n",
       "</div>"
      ],
      "text/plain": [
       "            0         1         2         3         4          5         6    \\\n",
       "0      1.000000  1.000000  1.000000  1.000000  1.000000   1.000000  1.000000   \n",
       "1      0.993039  0.999869  1.000874  1.002926  1.003368   0.995692  0.999151   \n",
       "2      0.988921  1.005474  1.003208  0.999110  1.007576   0.999718  0.997222   \n",
       "3      0.992305  1.011627  1.005970  0.995090  1.006497   0.995926  0.999026   \n",
       "4      0.997290  1.011865  1.000701  0.999472  1.007469   0.991351  0.999985   \n",
       "...         ...       ...       ...       ...       ...        ...       ...   \n",
       "7556  17.192135  7.352048  7.338850  5.197571  9.099391  10.525991  5.726382   \n",
       "7557  17.228101  7.330064  7.319573  5.226789  9.055417  10.507291  5.731131   \n",
       "7558  17.166822  7.268183  7.326357  5.210799  9.074809  10.459246  5.740425   \n",
       "7559  17.185310  7.277115  7.352876  5.227333  9.090210  10.416171  5.706037   \n",
       "7560  17.152179  7.313586  7.353289  5.241500  9.070201  10.451168  5.740179   \n",
       "\n",
       "           7         8         9    ...       490        491        492  \\\n",
       "0     1.000000  1.000000  1.000000  ...  1.000000   1.000000   1.000000   \n",
       "1     0.987227  0.995616  1.001344  ...  1.002195   0.994999   0.995567   \n",
       "2     0.987146  0.994950  1.005102  ...  1.000471   1.001002   0.999727   \n",
       "3     0.980540  1.000562  1.000128  ...  1.002591   1.004869   0.994755   \n",
       "4     0.981036  1.000718  0.999301  ...  1.001422   1.008467   0.990791   \n",
       "...        ...       ...       ...  ...       ...        ...        ...   \n",
       "7556  5.799887  5.253896  9.673441  ...  9.004942  14.113171  12.311908   \n",
       "7557  5.827241  5.253544  9.711732  ...  8.991675  14.155364  12.273885   \n",
       "7558  5.829340  5.243030  9.749898  ...  9.015839  14.161686  12.231720   \n",
       "7559  5.811633  5.224868  9.778770  ...  9.085832  14.248293  12.235988   \n",
       "7560  5.829821  5.214751  9.765425  ...  9.068588  14.228114  12.244041   \n",
       "\n",
       "           493        494        495       496       497       498       499  \n",
       "0     1.000000   1.000000   1.000000  1.000000  1.000000  1.000000  1.000000  \n",
       "1     1.005903   0.996142   0.994448  1.004147  0.998578  1.007693  0.993898  \n",
       "2     1.003765   0.997768   0.994862  0.997530  0.998710  1.006067  0.993430  \n",
       "3     1.001206   0.996291   0.993097  0.992011  0.993572  1.012168  0.995420  \n",
       "4     1.000711   0.994760   0.993263  0.987903  0.994622  1.014747  0.999906  \n",
       "...        ...        ...        ...       ...       ...       ...       ...  \n",
       "7556  5.728484  10.758712  11.980488  8.256933  6.184642  7.153767  6.486083  \n",
       "7557  5.707948  10.733972  11.957740  8.308359  6.191651  7.158714  6.482951  \n",
       "7558  5.699142  10.742679  11.965914  8.356712  6.146367  7.145184  6.485386  \n",
       "7559  5.677445  10.701343  11.912666  8.315815  6.159801  7.132640  6.491426  \n",
       "7560  5.707216  10.705937  11.938034  8.277656  6.153653  7.113738  6.510472  \n",
       "\n",
       "[7561 rows x 500 columns]"
      ]
     },
     "execution_count": 40,
     "metadata": {},
     "output_type": "execute_result"
    }
   ],
   "source": [
    "# Running a Monte Carlo simulation to forecast 30 years cumulative returns\n",
    "MC_thirty_year.calc_cumulative_return()"
   ]
  },
  {
   "cell_type": "code",
   "execution_count": 41,
   "metadata": {},
   "outputs": [
    {
     "data": {
      "image/png": "[encoded data removed]",
      "text/plain": [
       "<Figure size 432x288 with 1 Axes>"
      ]
     },
     "metadata": {
      "needs_background": "light"
     },
     "output_type": "display_data"
    }
   ],
   "source": [
    "# Plot simulation outcomes\n",
    "line_plot = MC_thirty_year.plot_simulation()"
   ]
  },
  {
   "cell_type": "code",
   "execution_count": 42,
   "metadata": {},
   "outputs": [
    {
     "data": {
      "image/png": "[encoded data removed]",
      "text/plain": [
       "<Figure size 432x288 with 1 Axes>"
      ]
     },
     "metadata": {
      "needs_background": "light"
     },
     "output_type": "display_data"
    }
   ],
   "source": [
    "# Plot probability distribution and confidence intervals\n",
    "dist_plot = MC_thirty_year.plot_distribution()"
   ]
  },
  {
   "cell_type": "markdown",
   "metadata": {},
   "source": [
    "### Retirement Analysis"
   ]
  },
  {
   "cell_type": "code",
   "execution_count": 43,
   "metadata": {},
   "outputs": [
    {
     "name": "stdout",
     "output_type": "stream",
     "text": [
      "count           500.000000\n",
      "mean              7.647043\n",
      "std               2.643854\n",
      "min               2.462216\n",
      "25%               5.736004\n",
      "50%               7.341956\n",
      "75%               9.080796\n",
      "max              19.339009\n",
      "95% CI Lower      3.683471\n",
      "95% CI Upper     14.075001\n",
      "Name: 7560, dtype: float64\n"
     ]
    }
   ],
   "source": [
    "# Fetch summary statistics from the Monte Carlo simulation results\n",
    "stats= MC_thirty_year.summarize_cumulative_return()\n",
    "\n",
    "# Print summary statistics\n",
    "print(stats)"
   ]
  },
  {
   "cell_type": "markdown",
   "metadata": {},
   "source": [
    "### Calculate the expected portfolio return at the 95% lower and upper confidence intervals based on a `$20,000` initial investment."
   ]
  },
  {
   "cell_type": "code",
   "execution_count": 46,
   "metadata": {},
   "outputs": [
    {
     "name": "stdout",
     "output_type": "stream",
     "text": [
      "There is a 95% chance that an initial investment of $20000 in the portfolio over the next 30 years will end within in the range of $73669.42 and $281500.01\n"
     ]
    }
   ],
   "source": [
    "# Set initial investment\n",
    "initial_investment = 20000\n",
    "\n",
    "# Use the lower and upper `95%` confidence intervals to calculate the range of the possible outcomes of our $20,000\n",
    "ci_lower = round(stats[8]*initial_investment,2)\n",
    "ci_upper = round(stats[9]*initial_investment,2)\n",
    "# Print results\n",
    "print(f\"There is a 95% chance that an initial investment of ${initial_investment} in the portfolio\"\n",
    "      f\" over the next 30 years will end within in the range of\"\n",
    "      f\" ${ci_lower} and ${ci_upper}\")"
   ]
  },
  {
   "cell_type": "markdown",
   "metadata": {},
   "source": [
    "### Calculate the expected portfolio return at the `95%` lower and upper confidence intervals based on a `50%` increase in the initial investment."
   ]
  },
  {
   "cell_type": "code",
   "execution_count": 47,
   "metadata": {},
   "outputs": [
    {
     "name": "stdout",
     "output_type": "stream",
     "text": [
      "There is a 95% chance that an initial investment of $30000.0 in the portfolio over the next 30 years will end within in the range of $110504.13 and $422250.02\n"
     ]
    }
   ],
   "source": [
    "# Set initial investment\n",
    "initial_investment = 20000 * 1.5\n",
    "\n",
    "# Use the lower and upper `95%` confidence intervals to calculate the range of the possible outcomes of our $30,000\n",
    "ci_lower = round(stats[8]*initial_investment,2)\n",
    "ci_upper = round(stats[9]*initial_investment,2)\n",
    "\n",
    "# Print results\n",
    "print(f\"There is a 95% chance that an initial investment of ${initial_investment} in the portfolio\"\n",
    "      f\" over the next 30 years will end within in the range of\"\n",
    "      f\" ${ci_lower} and ${ci_upper}\")"
   ]
  }
 ],
 "metadata": {
  "kernelspec": {
   "display_name": "Python 3",
   "language": "python",
   "name": "python3"
  },
  "language_info": {
   "codemirror_mode": {
    "name": "ipython",
    "version": 3
   },
   "file_extension": ".py",
   "mimetype": "text/x-python",
   "name": "python",
   "nbconvert_exporter": "python",
   "pygments_lexer": "ipython3",
   "version": "3.8.5"
  }
 },
 "nbformat": 4,
 "nbformat_minor": 4
}
